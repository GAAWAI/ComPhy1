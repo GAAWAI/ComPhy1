{
 "cells": [
  {
   "cell_type": "markdown",
   "metadata": {},
   "source": [
    "# Übung 8 Lineare Algebra"
   ]
  },
  {
   "cell_type": "markdown",
   "metadata": {},
   "source": [
    "## Gaussian Elimination: Rewriting to use pivoting\n",
    "\n",
    "In this exercise, you'll be rewriting a provided Gaussian elimination routine. Currently, the routine does __NOT__ use pivoting; you will rewrite it to include pivoting.\n",
    "\n",
    "First, read through and add some code comments to the Gaussian routine __WITHOUT__ pivoting:"
   ]
  },
  {
   "cell_type": "code",
   "execution_count": 6,
   "metadata": {},
   "outputs": [],
   "source": [
    "import numpy as np\n",
    "import scipy"
   ]
  },
  {
   "cell_type": "code",
   "execution_count": 84,
   "metadata": {},
   "outputs": [],
   "source": [
    "def forward_elimination(A, b, n):\n",
    "    \"\"\"\n",
    "    Calculates the forward part of Gaussian elimination.\n",
    "    \"\"\"\n",
    "    # Create the Augmented matrix\n",
    "    Aug = np.zeros((n,n+1), dtype='float')\n",
    "    Aug[:,:-1] = A\n",
    "    Aug[:,-1] = b\n",
    "    \n",
    "    for i in np.arange(n-1): # For each row\n",
    "        for k in np.arange(i+1, n): # Go through all the rows below\n",
    "            Aug[k,:] = Aug[k,:] - Aug[i,:] * Aug[k,i] / Aug[i,i]\n",
    "        print('[A|b] = \\n', Aug)\n",
    "    \n",
    "    A = Aug[:,:-1]\n",
    "    b = Aug[:,-1]\n",
    "    \n",
    "    return A, b\n",
    "\n",
    "    \"\"\"\n",
    "    <<< Variant 1 >>>\n",
    "    for row in range(0, n-1):\n",
    "        for i in range(row+1, n):\n",
    "            factor = A[i,row] / A[row,row]\n",
    "            for j in range(row, n):\n",
    "                A[i,j] = A[i,j] - factor * A[row,j]\n",
    "            b[i] = b[i] - factor * b[row]\n",
    "        print('A = \\n%s and b = %s' % (A,b))\n",
    "    return A, b\n",
    "    \n",
    "    <<< Variant 2 >>>\n",
    "    for i in np.arange(n-1): # For each rows\n",
    "        for k in np.arange(i+1, n): # Go through all the rows below\n",
    "            fac = A[k,i] / A[i,i] # A numerical factor muss be introduced or the vetor b won't be correct!\n",
    "            A[k,:] = A[k,:] - A[i,:] * fac\n",
    "            b[k] = b[k] - b[i] * fac\n",
    "        print('A =\\n', A, 'and b =', b)\n",
    "    return A, b\n",
    "    \"\"\""
   ]
  },
  {
   "cell_type": "code",
   "execution_count": 120,
   "metadata": {},
   "outputs": [],
   "source": [
    "def back_substitution(A, b, n):\n",
    "    \"\"\"\"\n",
    "    Does back substitution, returns the Gauss result.\n",
    "    \"\"\"\n",
    "    # Create the Augmented matrix\n",
    "    Aug = np.zeros((n,n+1), dtype='float')\n",
    "    Aug[:,:-1] = A\n",
    "    Aug[:,-1] = b\n",
    "    \n",
    "    Aug[-1,:] = Aug[-1,:] / Aug[-1,-2]\n",
    "    \n",
    "    for i in np.arange(n-1, -1, -1): # For each row\n",
    "        for k in np.arange(i-1, -1, -1): # Go through all the rows above\n",
    "            Aug[k,:] = Aug[k,:] - Aug[i,:] * Aug[k,k+1]\n",
    "            Aug[k,:] = Aug[k,:] / Aug[k,k]\n",
    "        print('[A|b] = \\n', Aug)\n",
    "    \n",
    "    return Aug[:,-1]\n",
    "\n",
    "    \"\"\"\n",
    "    <<< Variant 1 >>>\n",
    "    x = np.zeros((n,1))\n",
    "    x[n-1] = b[n-1] / a[n-1, n-1]\n",
    "    for row in range(n-2, -1, -1):\n",
    "        sums = b[row]\n",
    "        for j in range(row+1, n):\n",
    "            sums = sums - a[row,j] * x[j]\n",
    "        x[row] = sums / a[row,row]\n",
    "    return x\n",
    "    \n",
    "    <<< Variant 2 >>\n",
    "    A[-1,:] = A[-1,:] / A[-1,-1]\n",
    "    b[n-1] = b[n-1] / A[-1,-1]\n",
    "    print('A =\\n', A, 'and b =', b)\n",
    "    for i in np.arange(n-1, -1, -1): # For all the rows from the bottom to top\n",
    "        for k in np.arange(i-1, -1, -1): # Go through all the rows above the current one\n",
    "            A[k,:] = A[k,:] - A[i,:] * A[k,k+1]\n",
    "            A[k,:] = A[k,:] / A[k,k]\n",
    "            b[k] = b[k] - b[i] * A[k,k+1]\n",
    "            b[k] = b[k] / A[k,k]\n",
    "        print('A =\\n', A, 'and b =', b)\n",
    "    return b\n",
    "    \"\"\""
   ]
  },
  {
   "cell_type": "code",
   "execution_count": 121,
   "metadata": {},
   "outputs": [],
   "source": [
    "def gauss(A, b):\n",
    "    \"\"\"\n",
    "    This function performs Gauss elimination without pivoting.\n",
    "    \"\"\"\n",
    "    n = A.shape[0]\n",
    "\n",
    "    # Check for zero diagonal elements\n",
    "    if any(np.diag(A)==0):\n",
    "        raise ZeroDivisionError(('Division by zero will occur; '\n",
    "                                  'pivoting currently not supported'))\n",
    "\n",
    "    A, b = forward_elimination(A, b, n)\n",
    "    return back_substitution(A, b, n)\n"
   ]
  },
  {
   "cell_type": "code",
   "execution_count": 122,
   "metadata": {
    "scrolled": true
   },
   "outputs": [
    {
     "name": "stdout",
     "output_type": "stream",
     "text": [
      "[A|b] = \n",
      " [[ 1.  1.  1.  1.  0.]\n",
      " [ 0. -3. -3. -3.  4.]\n",
      " [ 0.  3. -5.  0.  2.]\n",
      " [ 0. -6. -6. -4. -4.]]\n",
      "[A|b] = \n",
      " [[  1.   1.   1.   1.   0.]\n",
      " [  0.  -3.  -3.  -3.   4.]\n",
      " [  0.   0.  -8.  -3.   6.]\n",
      " [  0.   0.   0.   2. -12.]]\n",
      "[A|b] = \n",
      " [[  1.   1.   1.   1.   0.]\n",
      " [  0.  -3.  -3.  -3.   4.]\n",
      " [  0.   0.  -8.  -3.   6.]\n",
      " [  0.   0.   0.   2. -12.]]\n",
      "[A|b] = \n",
      " [[ 1.          1.          1.          0.          6.        ]\n",
      " [-0.          1.          1.         -0.          4.66666667]\n",
      " [-0.         -0.          1.         -0.          1.5       ]\n",
      " [ 0.          0.          0.          1.         -6.        ]]\n",
      "[A|b] = \n",
      " [[ 1.          1.          0.          0.          4.5       ]\n",
      " [ 0.          1.          0.          0.          3.16666667]\n",
      " [-0.         -0.          1.         -0.          1.5       ]\n",
      " [ 0.          0.          0.          1.         -6.        ]]\n",
      "[A|b] = \n",
      " [[ 1.          0.          0.          0.          1.33333333]\n",
      " [ 0.          1.          0.          0.          3.16666667]\n",
      " [-0.         -0.          1.         -0.          1.5       ]\n",
      " [ 0.          0.          0.          1.         -6.        ]]\n",
      "[A|b] = \n",
      " [[ 1.          0.          0.          0.          1.33333333]\n",
      " [ 0.          1.          0.          0.          3.16666667]\n",
      " [-0.         -0.          1.         -0.          1.5       ]\n",
      " [ 0.          0.          0.          1.         -6.        ]]\n",
      "Gauss result is x = \n",
      " [ 1.33333333  3.16666667  1.5        -6.        ]\n"
     ]
    }
   ],
   "source": [
    "# Here is a test:\n",
    "A = np.array([[1, 1, 1, 1],\n",
    "              [1, -2, -2, -2],\n",
    "              [1, 4, -4, 1],\n",
    "              [1, -5, -5, -3]])\n",
    "b = np.array([0, 4, 2, -4])\n",
    "x = gauss(A, b)\n",
    "print('Gauss result is x = \\n %s' % x)"
   ]
  },
  {
   "cell_type": "markdown",
   "metadata": {},
   "source": [
    "## Rewriting the routine with pivoting\n",
    "Now, rewrite the three functions to use pivoting, and name them as:\n",
    "\n",
    "`forward_elimination_piv()`\n",
    "\n",
    "`back_substitution_piv()`\n",
    "\n",
    "`gauss_piv()`\n",
    "\n",
    "Test against the same case as above."
   ]
  },
  {
   "cell_type": "markdown",
   "metadata": {
    "collapsed": true
   },
   "source": [
    "### 1. The function `forward_elimination_piv(A,b,n)`\n",
    "In a pratical program we don't really swap the rows inside a matrix for it lowers the performance but tracting only the permutations."
   ]
  },
  {
   "cell_type": "code",
   "execution_count": 9,
   "metadata": {},
   "outputs": [],
   "source": [
    "def forward_elimination_piv(A, b, n):\n",
    "    \"\"\"\n",
    "    Calculates the forward part of Gaussian elimination with Pivoting\n",
    "    \"\"\"\n",
    "    for row in range(0, n-1):\n",
    "        \n",
    "        for i in range(row+1, n):\n",
    "            \n",
    "            factor = A[i,row] / A[row,row]\n",
    "            \n",
    "            for j in range(row, n):\n",
    "                A[i,j] = A[i,j] - factor * A[row,j]\n",
    "            b[i] = b[i] - factor * b[row]\n",
    "\n",
    "        print('A = \\n%s and b = %s' % (A,b))\n",
    "    return A, b"
   ]
  },
  {
   "cell_type": "code",
   "execution_count": 1,
   "metadata": {},
   "outputs": [],
   "source": [
    "def swap_row(A,i,j):\n",
    "    \n",
    "    Temp = A[j,:]\n",
    "    A[j,:] = A[i,:]\n",
    "    A[i,:] = Temp\n",
    "    \n",
    "    return A"
   ]
  },
  {
   "cell_type": "markdown",
   "metadata": {
    "collapsed": true
   },
   "source": [
    "back_substitution_piv"
   ]
  },
  {
   "cell_type": "code",
   "execution_count": 32,
   "metadata": {},
   "outputs": [],
   "source": []
  },
  {
   "cell_type": "code",
   "execution_count": 5,
   "metadata": {},
   "outputs": [],
   "source": [
    "def back_substitution_piv(A, b, n):\n",
    "    \"\"\"\n",
    "        Back substitution of A and b with pivoting.\n",
    "    \"\"\"\n",
    "    \n",
    "    # From the N-TH row (Index: n-1) to the SECOND row (Index: 1)\n",
    "    for row in range(n-1, 0, -1):\n",
    "        \n",
    "        for i in range(row-1, -1, -1):\n",
    "            factor = A[i,row] / A[row,row]\n",
    "            \n",
    "            for j in range(0, n):\n",
    "                A[i,j] = A[i,j] - factor * A[row,j]\n",
    "            b[i] = b[i] - factor * b[row]\n",
    "\n",
    "        print('A = \\n%s and b = %s' % (A,b))\n",
    "        \n",
    "    return A, b"
   ]
  },
  {
   "cell_type": "markdown",
   "metadata": {},
   "source": [
    "### The function `gauss_piv(A,b)`"
   ]
  },
  {
   "cell_type": "code",
   "execution_count": 10,
   "metadata": {},
   "outputs": [],
   "source": [
    "def gauss_piv(A, b):\n",
    "    \"\"\"\n",
    "        Gauss-Jordan Elimination with pivoting.\n",
    "    \"\"\"\n",
    "    # The dimension of the input square matrix A\n",
    "    n = A.shape[0]\n",
    "\n",
    "    # Check for zero diagonal elements\n",
    "    #if any(np.diag(A)==0):\n",
    "     #   raise ZeroDivisionError(('Division by zero will occur; '\n",
    "                       #           'pivoting currently not supported'))\n",
    "\n",
    "    A, b = forward_elimination_piv(A, b, n)\n",
    "    return back_substitution_piv(A, b, n)"
   ]
  },
  {
   "cell_type": "code",
   "execution_count": 11,
   "metadata": {},
   "outputs": [
    {
     "name": "stdout",
     "output_type": "stream",
     "text": [
      "A = \n",
      "[[ 1.  1.  1.  1.]\n",
      " [ 0. -3. -3. -3.]\n",
      " [ 0.  2. -6. -1.]\n",
      " [ 0. -6. -6. -4.]] and b = [ 0  4  2 -4]\n",
      "A = \n",
      "[[ 1.  1.  1.  1.]\n",
      " [ 0. -3. -3. -3.]\n",
      " [ 0.  0. -8. -3.]\n",
      " [ 0.  0.  0.  2.]] and b = [  0   4   4 -12]\n",
      "A = \n",
      "[[ 1.  1.  1.  1.]\n",
      " [ 0. -3. -3. -3.]\n",
      " [ 0.  0. -8. -3.]\n",
      " [ 0.  0.  0.  2.]] and b = [  0   4   4 -12]\n",
      "A = \n",
      "[[ 1.  1.  1.  0.]\n",
      " [ 0. -3. -3.  0.]\n",
      " [ 0.  0. -8.  0.]\n",
      " [ 0.  0.  0.  2.]] and b = [  6 -14 -14 -12]\n",
      "A = \n",
      "[[ 1.  1.  0.  0.]\n",
      " [ 0. -3.  0.  0.]\n",
      " [ 0.  0. -8.  0.]\n",
      " [ 0.  0.  0.  2.]] and b = [  4  -8 -14 -12]\n",
      "A = \n",
      "[[ 1.  0.  0.  0.]\n",
      " [ 0. -3.  0.  0.]\n",
      " [ 0.  0. -8.  0.]\n",
      " [ 0.  0.  0.  2.]] and b = [  1  -8 -14 -12]\n"
     ]
    }
   ],
   "source": [
    "# Test case\n",
    "A = np.array([[1,  1,  1,  1],\n",
    "              [1, -2, -2, -2],\n",
    "              [2,  4, -4,  1],\n",
    "              [1, -5, -5, -3]],dtype='f')\n",
    "b = np.array([0, 4, 2, -4])\n",
    "x = gauss_piv(A, b)"
   ]
  },
  {
   "cell_type": "code",
   "execution_count": null,
   "metadata": {},
   "outputs": [],
   "source": []
  },
  {
   "cell_type": "code",
   "execution_count": null,
   "metadata": {
    "collapsed": true
   },
   "outputs": [],
   "source": [
    "# Bonus: Examine the linear algebra Jupyter notebook on Moodle, and start on the homework."
   ]
  },
  {
   "cell_type": "raw",
   "metadata": {},
   "source": [
    "(Pivot-less Gaussian elimination routine from http://modelling3e4.connectmv.com/wiki/Assignment_2_-_2010_-_Solution/Bonus_question)"
   ]
  },
  {
   "cell_type": "code",
   "execution_count": null,
   "metadata": {
    "collapsed": true
   },
   "outputs": [],
   "source": []
  }
 ],
 "metadata": {
  "kernelspec": {
   "display_name": "Python 3",
   "language": "python",
   "name": "python3"
  },
  "language_info": {
   "codemirror_mode": {
    "name": "ipython",
    "version": 3
   },
   "file_extension": ".py",
   "mimetype": "text/x-python",
   "name": "python",
   "nbconvert_exporter": "python",
   "pygments_lexer": "ipython3",
   "version": "3.6.4"
  }
 },
 "nbformat": 4,
 "nbformat_minor": 2
}
