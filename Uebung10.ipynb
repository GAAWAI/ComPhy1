{
 "cells": [
  {
   "cell_type": "code",
   "execution_count": 1,
   "metadata": {},
   "outputs": [],
   "source": [
    "import numpy as np\n",
    "import scipy\n",
    "import scipy.linalg\n",
    "import matplotlib.pyplot as mpl"
   ]
  },
  {
   "cell_type": "markdown",
   "metadata": {},
   "source": [
    "# Eigenstates of a harmonic oscillator\n",
    "\n",
    "We will determine the eigenfunctions of a harmonic oscillator using *scipy.linalg.eig*."
   ]
  },
  {
   "cell_type": "code",
   "execution_count": 2,
   "metadata": {},
   "outputs": [
    {
     "name": "stdout",
     "output_type": "stream",
     "text": [
      "Help on function eig in module scipy.linalg.decomp:\n",
      "\n",
      "eig(a, b=None, left=False, right=True, overwrite_a=False, overwrite_b=False, check_finite=True)\n",
      "    Solve an ordinary or generalized eigenvalue problem of a square matrix.\n",
      "    \n",
      "    Find eigenvalues w and right or left eigenvectors of a general matrix::\n",
      "    \n",
      "        a   vr[:,i] = w[i]        b   vr[:,i]\n",
      "        a.H vl[:,i] = w[i].conj() b.H vl[:,i]\n",
      "    \n",
      "    where ``.H`` is the Hermitian conjugation.\n",
      "    \n",
      "    Parameters\n",
      "    ----------\n",
      "    a : (M, M) array_like\n",
      "        A complex or real matrix whose eigenvalues and eigenvectors\n",
      "        will be computed.\n",
      "    b : (M, M) array_like, optional\n",
      "        Right-hand side matrix in a generalized eigenvalue problem.\n",
      "        Default is None, identity matrix is assumed.\n",
      "    left : bool, optional\n",
      "        Whether to calculate and return left eigenvectors.  Default is False.\n",
      "    right : bool, optional\n",
      "        Whether to calculate and return right eigenvectors.  Default is True.\n",
      "    overwrite_a : bool, optional\n",
      "        Whether to overwrite `a`; may improve performance.  Default is False.\n",
      "    overwrite_b : bool, optional\n",
      "        Whether to overwrite `b`; may improve performance.  Default is False.\n",
      "    check_finite : bool, optional\n",
      "        Whether to check that the input matrices contain only finite numbers.\n",
      "        Disabling may give a performance gain, but may result in problems\n",
      "        (crashes, non-termination) if the inputs do contain infinities or NaNs.\n",
      "    \n",
      "    Returns\n",
      "    -------\n",
      "    w : (M,) double or complex ndarray\n",
      "        The eigenvalues, each repeated according to its multiplicity.\n",
      "    vl : (M, M) double or complex ndarray\n",
      "        The normalized left eigenvector corresponding to the eigenvalue\n",
      "        ``w[i]`` is the column vl[:,i]. Only returned if ``left=True``.\n",
      "    vr : (M, M) double or complex ndarray\n",
      "        The normalized right eigenvector corresponding to the eigenvalue\n",
      "        ``w[i]`` is the column ``vr[:,i]``.  Only returned if ``right=True``.\n",
      "    \n",
      "    Raises\n",
      "    ------\n",
      "    LinAlgError\n",
      "        If eigenvalue computation does not converge.\n",
      "    \n",
      "    See Also\n",
      "    --------\n",
      "    eigh : Eigenvalues and right eigenvectors for symmetric/Hermitian arrays.\n",
      "\n"
     ]
    }
   ],
   "source": [
    "help(scipy.linalg.eig)"
   ]
  },
  {
   "cell_type": "markdown",
   "metadata": {},
   "source": [
    "## In-class exercise\n",
    "\n",
    "First define an x-axis between -3 and 3 with 400 points using *linspace*.\n",
    "\n",
    "Also, set $k=(2 \\pi)^2$ and $m = \\hbar = 1$.\n",
    "\n",
    "Then, define a potential $V(r)$ and Hamiltonian H as:\n",
    " \n",
    " $$ V(r) = \\frac{k}{\\alpha} \\left| r \\right| ^{\\alpha} \\mathrm{~~~~with~~~~} k, \\alpha > 0 $$\n",
    " \n",
    " $$ \\mathrm{H} = \\left[ - \\frac{\\hbar^2}{2m} \\frac{d^2}{dx^2} + V(x) \\right] $$"
   ]
  },
  {
   "cell_type": "code",
   "execution_count": 2,
   "metadata": {},
   "outputs": [],
   "source": [
    "# Define the potential Vr(r)\n",
    "N = 400\n",
    "xr = np.linspace(-3,3,N)\n",
    "dx = xr[1]-xr[0]\n",
    "k = (2*np.pi)**2\n",
    "m = 1\n",
    "hbar = 1\n",
    "alpha = 2\n",
    "\n",
    "def Vr(r):\n",
    "    Vr_out = k / alpha * abs(r)**alpha\n",
    "    return Vr_out"
   ]
  },
  {
   "cell_type": "markdown",
   "metadata": {
    "collapsed": true
   },
   "source": [
    "Now we construct a special matrix for the Hamiltonian."
   ]
  },
  {
   "cell_type": "code",
   "execution_count": 3,
   "metadata": {},
   "outputs": [],
   "source": [
    "# Construct the H-matrix. Remember, d^2f/dx^2 = f(x+h)-2f(x)+f(x-h).\n",
    "# Hint: The H-matrix is square; think about its diagonal...\n",
    "\n",
    "H = np.diag((Vr(xr) + 2*hbar**2/(2*m*dx**2)), k=0)\n",
    "np.fill_diagonal(H[1:,:], -hbar**2/(2*m*dx**2))\n",
    "np.fill_diagonal(H[:,1:], -hbar**2/(2*m*dx**2))"
   ]
  },
  {
   "cell_type": "code",
   "execution_count": 10,
   "metadata": {},
   "outputs": [],
   "source": [
    "# The boundary conditions\n",
    "H[0,0] = -hbar**2/(2*m*dx**2) * 2 + Vr(xr[0])\n",
    "H[0,1] = -hbar**2/(2*m*dx**2) * 5\n",
    "H[0,2] = -hbar**2/(2*m*dx**2) * (-4)\n",
    "H[0,3] = -hbar**2/(2*m*dx**2)\n",
    "H[N-1,N-1] = -hbar**2/(2*m*dx**2) * 2 + Vr(xr[N-1])\n",
    "H[N-1,N-2] = -hbar**2/(2*m*dx**2) * 5\n",
    "H[N-1,N-3] = -hbar**2/(2*m*dx**2) * (-4)\n",
    "H[N-1,N-4] = -hbar**2/(2*m*dx**2)"
   ]
  },
  {
   "cell_type": "markdown",
   "metadata": {},
   "source": [
    "Calculate the eigenvalues using scipy.linalg.eig.\n",
    "\n",
    "Once the eigenvalues are calculated, graph the 5 lowest eigenvalues' wavefunctions."
   ]
  },
  {
   "cell_type": "code",
   "execution_count": 11,
   "metadata": {},
   "outputs": [
    {
     "data": {
      "image/png": "[encoded data removed]",
      "text/plain": [
       "<matplotlib.figure.Figure at 0x1679efe9438>"
      ]
     },
     "metadata": {},
     "output_type": "display_data"
    }
   ],
   "source": [
    "# Eigenvalues and Eigenfunction\n",
    "E, Vec = scipy.linalg.eig(H)\n",
    "\n",
    "# Returns the indices that would sort the array E\n",
    "E_index = E.argsort()\n",
    "# Number of eigenstates to be plotted\n",
    "Num_EV = 5\n",
    "\n",
    "\n",
    "\n",
    "# offset = Vec[:,E_index[:Num_EV]].real.max() - Vec[:,E_index[:Num_EV]].real.min() # How much to offset each value?\n",
    "# mpl.plot(xr, e2[:,E_index[:Num_EV]].real + np.arange(:Num_EV)*offset) # plot the values.\n",
    "\n",
    "Graph1 = mpl.figure(dpi=100)\n",
    "mpl.plot(xr, Vec[:,E_index[0:Num_EV]].real)\n",
    "mpl.show()"
   ]
  },
  {
   "cell_type": "code",
   "execution_count": 12,
   "metadata": {},
   "outputs": [
    {
     "name": "stdout",
     "output_type": "stream",
     "text": [
      "0\n",
      "(-6224.307823128531+0j)\n"
     ]
    }
   ],
   "source": [
    "print(E_index[1])\n",
    "print(E[E_index[1]])"
   ]
  },
  {
   "cell_type": "code",
   "execution_count": null,
   "metadata": {
    "collapsed": true
   },
   "outputs": [],
   "source": []
  },
  {
   "cell_type": "markdown",
   "metadata": {},
   "source": [
    "If you've completed all of the above, start on your homework..."
   ]
  },
  {
   "cell_type": "code",
   "execution_count": null,
   "metadata": {
    "collapsed": true
   },
   "outputs": [],
   "source": []
  }
 ],
 "metadata": {
  "kernelspec": {
   "display_name": "Python 3",
   "language": "python",
   "name": "python3"
  },
  "language_info": {
   "codemirror_mode": {
    "name": "ipython",
    "version": 3
   },
   "file_extension": ".py",
   "mimetype": "text/x-python",
   "name": "python",
   "nbconvert_exporter": "python",
   "pygments_lexer": "ipython3",
   "version": "3.6.4"
  }
 },
 "nbformat": 4,
 "nbformat_minor": 2
}
