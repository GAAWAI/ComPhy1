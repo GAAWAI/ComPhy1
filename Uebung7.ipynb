{
 "cells": [
  {
   "cell_type": "code",
   "execution_count": 4,
   "metadata": {},
   "outputs": [],
   "source": [
    "import numpy\n",
    "import scipy\n",
    "import scipy.integrate\n",
    "import matplotlib.pyplot as mpl"
   ]
  },
  {
   "cell_type": "markdown",
   "metadata": {},
   "source": [
    "## Part 1\n",
    "$ f_1(x)=\\exp{(-x^2)} $"
   ]
  },
  {
   "cell_type": "code",
   "execution_count": 5,
   "metadata": {},
   "outputs": [],
   "source": [
    "def int_trapez(a, b, n=2**10):\n",
    "def int_trapez(func_str, x='x', a=0, b=1, n=2**10):\n",
    "    \n",
    "    f = eval(lambda x: func_str)\n",
    "    #f = lambda x: numpy.exp(-x**2)\n",
    "    \n",
    "    # Length of the step\n",
    "    h = (b-a)/n\n",
    "    \n",
    "    # Evaluate the Integral\n",
    "    Sum = 0\n",
    "    for i in numpy.arange(n-2):\n",
    "        Sum = Sum + f(a + (i+1)*h)\n",
    "    \n",
    "    T = h * (f(a)/2 + f(b)/2 + Sum)\n",
    "    \n",
    "    return T"
   ]
  },
  {
   "cell_type": "code",
   "execution_count": 6,
   "metadata": {},
   "outputs": [
    {
     "name": "stdout",
     "output_type": "stream",
     "text": [
      "0.7464641150560537\n"
     ]
    }
   ],
   "source": [
    "a = int_trapez(0, 1, n=2**10)\n",
    "print(a)"
   ]
  },
  {
   "cell_type": "markdown",
   "metadata": {},
   "source": [
    "## Part 2"
   ]
  },
  {
   "cell_type": "code",
   "execution_count": 25,
   "metadata": {},
   "outputs": [
    {
     "name": "stdout",
     "output_type": "stream",
     "text": [
      "0.886207347729\n"
     ]
    }
   ],
   "source": [
    "# Use scipy.integrate.trapz\n",
    "xr = numpy.linspace(0,3,2**10)\n",
    "y = numpy.exp(-xr**2)\n",
    "\n",
    "b = scipy.integrate.trapz(y,dx=abs(xr[1]-xr[0]))\n",
    "# b = scipy.integrate.trapz(y,x=xr)\n",
    "print(b)"
   ]
  },
  {
   "cell_type": "markdown",
   "metadata": {},
   "source": [
    "## Part 3"
   ]
  },
  {
   "cell_type": "code",
   "execution_count": 18,
   "metadata": {},
   "outputs": [
    {
     "name": "stdout",
     "output_type": "stream",
     "text": [
      "(0.8862073482595214, 3.1768223732680054e-11)\n"
     ]
    }
   ],
   "source": [
    "def f1(x):\n",
    "    return numpy.exp(-x**2)\n",
    "\n",
    "c = scipy.integrate.quad(f1,0,3)\n",
    "print(c)"
   ]
  },
  {
   "cell_type": "markdown",
   "metadata": {},
   "source": [
    "## Part 4"
   ]
  },
  {
   "cell_type": "code",
   "execution_count": 27,
   "metadata": {},
   "outputs": [
    {
     "name": "stdout",
     "output_type": "stream",
     "text": [
      "         1029 function calls in 0.002 seconds\n",
      "\n",
      "   Ordered by: standard name\n",
      "\n",
      "   ncalls  tottime  percall  cumtime  percall filename:lineno(function)\n",
      "        1    0.002    0.002    0.002    0.002 <ipython-input-10-e19b469b8e10>:1(int_trapez)\n",
      "     1024    0.001    0.000    0.001    0.000 <ipython-input-10-e19b469b8e10>:6(<lambda>)\n",
      "        1    0.000    0.000    0.002    0.002 <string>:1(<module>)\n",
      "        1    0.000    0.000    0.002    0.002 {built-in method builtins.exec}\n",
      "        1    0.000    0.000    0.000    0.000 {built-in method numpy.core.multiarray.arange}\n",
      "        1    0.000    0.000    0.000    0.000 {method 'disable' of '_lsprof.Profiler' objects}\n",
      "\n",
      "\n",
      "         11 function calls in 0.000 seconds\n",
      "\n",
      "   Ordered by: standard name\n",
      "\n",
      "   ncalls  tottime  percall  cumtime  percall filename:lineno(function)\n",
      "        1    0.000    0.000    0.000    0.000 <string>:1(<module>)\n",
      "        1    0.000    0.000    0.000    0.000 _methods.py:31(_sum)\n",
      "        1    0.000    0.000    0.000    0.000 function_base.py:4270(trapz)\n",
      "        1    0.000    0.000    0.000    0.000 numeric.py:534(asanyarray)\n",
      "        1    0.000    0.000    0.000    0.000 {built-in method builtins.abs}\n",
      "        1    0.000    0.000    0.000    0.000 {built-in method builtins.exec}\n",
      "        1    0.000    0.000    0.000    0.000 {built-in method builtins.len}\n",
      "        1    0.000    0.000    0.000    0.000 {built-in method numpy.core.multiarray.array}\n",
      "        1    0.000    0.000    0.000    0.000 {method 'disable' of '_lsprof.Profiler' objects}\n",
      "        1    0.000    0.000    0.000    0.000 {method 'reduce' of 'numpy.ufunc' objects}\n",
      "        1    0.000    0.000    0.000    0.000 {method 'sum' of 'numpy.ndarray' objects}\n",
      "\n",
      "\n",
      "         28 function calls in 0.000 seconds\n",
      "\n",
      "   Ordered by: standard name\n",
      "\n",
      "   ncalls  tottime  percall  cumtime  percall filename:lineno(function)\n",
      "       21    0.000    0.000    0.000    0.000 <ipython-input-18-48e52e6f9dc8>:1(f1)\n",
      "        1    0.000    0.000    0.000    0.000 <string>:1(<module>)\n",
      "        1    0.000    0.000    0.000    0.000 quadpack.py:362(_quad)\n",
      "        1    0.000    0.000    0.000    0.000 quadpack.py:44(quad)\n",
      "        1    0.000    0.000    0.000    0.000 {built-in method builtins.exec}\n",
      "        1    0.000    0.000    0.000    0.000 {built-in method builtins.isinstance}\n",
      "        1    0.000    0.000    0.000    0.000 {built-in method scipy.integrate._quadpack._qagse}\n",
      "        1    0.000    0.000    0.000    0.000 {method 'disable' of '_lsprof.Profiler' objects}\n",
      "\n",
      "\n"
     ]
    }
   ],
   "source": [
    "import cProfile\n",
    "cProfile.run(\"int_trapez(0, 3, n=2**10)\")\n",
    "cProfile.run(\"scipy.integrate.trapz(y,dx=abs(xr[1]-xr[0]))\")\n",
    "cProfile.run(\"scipy.integrate.quad(f1,0,3)\")"
   ]
  },
  {
   "cell_type": "code",
   "execution_count": null,
   "metadata": {
    "collapsed": true
   },
   "outputs": [],
   "source": []
  }
 ],
 "metadata": {
  "kernelspec": {
   "display_name": "Python 3",
   "language": "python",
   "name": "python3"
  },
  "language_info": {
   "codemirror_mode": {
    "name": "ipython",
    "version": 3
   },
   "file_extension": ".py",
   "mimetype": "text/x-python",
   "name": "python",
   "nbconvert_exporter": "python",
   "pygments_lexer": "ipython3",
   "version": "3.6.4"
  }
 },
 "nbformat": 4,
 "nbformat_minor": 2
}
