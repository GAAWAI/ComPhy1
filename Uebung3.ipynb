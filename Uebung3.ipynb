{
 "cells": [
  {
   "cell_type": "markdown",
   "metadata": {},
   "source": [
    "# Part1\n",
    "Comperation of \"float32\" and \"float64\" arrays"
   ]
  },
  {
   "cell_type": "code",
   "execution_count": 56,
   "metadata": {
    "collapsed": true
   },
   "outputs": [],
   "source": [
    "import numpy as np\n",
    "import scipy\n",
    "from scipy import misc"
   ]
  },
  {
   "cell_type": "code",
   "execution_count": 57,
   "metadata": {
    "collapsed": false,
    "scrolled": true
   },
   "outputs": [
    {
     "name": "stdout",
     "output_type": "stream",
     "text": [
      "[  5.00000000e-01   2.50000000e-01   1.25000000e-01   6.25000000e-02\n",
      "   3.12500000e-02   1.56250000e-02   7.81250000e-03   3.90625000e-03\n",
      "   1.95312500e-03   9.76562500e-04   4.88281250e-04   2.44140625e-04\n",
      "   1.22070312e-04   6.10351562e-05   3.05175781e-05   1.52587891e-05\n",
      "   7.62939453e-06   3.81469727e-06   1.90734863e-06   9.53674316e-07\n",
      "   4.76837158e-07   2.38418579e-07   1.19209290e-07   0.00000000e+00\n",
      "   0.00000000e+00   0.00000000e+00   0.00000000e+00   0.00000000e+00\n",
      "   0.00000000e+00   0.00000000e+00   0.00000000e+00   0.00000000e+00\n",
      "   0.00000000e+00   0.00000000e+00   0.00000000e+00   0.00000000e+00\n",
      "   0.00000000e+00   0.00000000e+00   0.00000000e+00   0.00000000e+00\n",
      "   0.00000000e+00   0.00000000e+00   0.00000000e+00   0.00000000e+00\n",
      "   0.00000000e+00   0.00000000e+00   0.00000000e+00   0.00000000e+00\n",
      "   0.00000000e+00   0.00000000e+00   0.00000000e+00   0.00000000e+00\n",
      "   0.00000000e+00   0.00000000e+00   0.00000000e+00]\n",
      "[  5.00000000e-01   2.50000000e-01   1.25000000e-01   6.25000000e-02\n",
      "   3.12500000e-02   1.56250000e-02   7.81250000e-03   3.90625000e-03\n",
      "   1.95312500e-03   9.76562500e-04   4.88281250e-04   2.44140625e-04\n",
      "   1.22070312e-04   6.10351562e-05   3.05175781e-05   1.52587891e-05\n",
      "   7.62939453e-06   3.81469727e-06   1.90734863e-06   9.53674316e-07\n",
      "   4.76837158e-07   2.38418579e-07   1.19209290e-07   5.96046448e-08\n",
      "   2.98023224e-08   1.49011612e-08   7.45058060e-09   3.72529030e-09\n",
      "   1.86264515e-09   9.31322575e-10   4.65661287e-10   2.32830644e-10\n",
      "   1.16415322e-10   5.82076609e-11   2.91038305e-11   1.45519152e-11\n",
      "   7.27595761e-12   3.63797881e-12   1.81898940e-12   9.09494702e-13\n",
      "   4.54747351e-13   2.27373675e-13   1.13686838e-13   5.68434189e-14\n",
      "   2.84217094e-14   1.42108547e-14   7.10542736e-15   3.55271368e-15\n",
      "   1.77635684e-15   8.88178420e-16   4.44089210e-16   2.22044605e-16\n",
      "   0.00000000e+00   0.00000000e+00   0.00000000e+00]\n"
     ]
    }
   ],
   "source": [
    "# Define a single-pricision float point arry\n",
    "sp = np.ones((55),\"float32\")\n",
    "# Define a double-pricision float point arry\n",
    "dp = np.ones((55),\"float64\")\n",
    "\n",
    "x = 1\n",
    "\n",
    "for i in np.arange(np.size(sp)):\n",
    "    x = x/2;\n",
    "    sp[i] = sp[i]+x\n",
    "    dp[i] = dp[i]+x\n",
    "\n",
    "print(sp-1)\n",
    "print(dp-1)"
   ]
  },
  {
   "cell_type": "markdown",
   "metadata": {},
   "source": [
    "# Part 2\n",
    "Function approximation of $e^x$ with taylor series"
   ]
  },
  {
   "cell_type": "code",
   "execution_count": 96,
   "metadata": {
    "collapsed": false
   },
   "outputs": [
    {
     "name": "stdout",
     "output_type": "stream",
     "text": [
      "exp(x)\t\texp_t(x)\t%\n",
      "20.08553692\t 0.00000000\t 1.00000000\t\n",
      "20.08553692\t 1.00000000\t 0.95021293\t\n",
      "20.08553692\t 4.00000000\t 0.80085173\t\n",
      "20.08553692\t 8.50000000\t 0.57680992\t\n",
      "20.08553692\t 13.00000000\t 0.35276811\t\n",
      "20.08553692\t 16.37500000\t 0.18473676\t\n",
      "20.08553692\t 18.40000000\t 0.08391794\t\n",
      "20.08553692\t 19.41250000\t 0.03350854\t\n",
      "20.08553692\t 19.84642857\t 0.01190450\t\n",
      "20.08553692\t 20.00915179\t 0.00380299\t\n",
      "20.08553692\t 20.06339286\t 0.00110249\t\n",
      "20.08553692\t 20.07966518\t 0.00029234\t\n",
      "20.08553692\t 20.08410308\t 0.00007139\t\n",
      "20.08553692\t 20.08521256\t 0.00001615\t\n",
      "20.08553692\t 20.08546859\t 0.00000340\t\n"
     ]
    }
   ],
   "source": [
    "# Evaluate numerically exp(x) by taylor expansion\n",
    "def TaylorExp(x, n=None):\n",
    "    if n is None:\n",
    "        n = 10\n",
    "    x_n = x*np.ones(n)\n",
    "    i_n = np.arange(n)\n",
    "    x_Power = np.power(x_n, i_n)\n",
    "    i_Factorial = misc.factorial(i_n)\n",
    "    return np.sum(x_Power / i_Factorial)\n",
    "\n",
    "# Compare the results\n",
    "x = 3\n",
    "N = 15\n",
    "print(\"exp(x)\\t\\texp_t(x)\\t%\")\n",
    "\n",
    "for i in np.arange(N):\n",
    "    print('%.8f\\t' %np.exp(x),'%.8f\\t' %TaylorExp(x,i),'%.8f\\t' %((np.exp(x)-TaylorExp(x,i))/np.exp(x)))"
   ]
  },
  {
   "cell_type": "code",
   "execution_count": null,
   "metadata": {
    "collapsed": true
   },
   "outputs": [],
   "source": []
  }
 ],
 "metadata": {
  "kernelspec": {
   "display_name": "Python 3",
   "language": "python",
   "name": "python3"
  },
  "language_info": {
   "codemirror_mode": {
    "name": "ipython",
    "version": 3
   },
   "file_extension": ".py",
   "mimetype": "text/x-python",
   "name": "python",
   "nbconvert_exporter": "python",
   "pygments_lexer": "ipython3",
   "version": "3.5.3"
  }
 },
 "nbformat": 4,
 "nbformat_minor": 2
}
