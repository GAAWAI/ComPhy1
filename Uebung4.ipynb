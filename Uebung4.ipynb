{
 "cells": [
  {
   "cell_type": "markdown",
   "metadata": {},
   "source": [
    "# Part 1\n",
    "Use scipy.optimize.fsolve to find the zeros of\n",
    "$$ f_1(x) = 5 \\sin (5x) $$\n",
    "with starting condition given by linspace(0,1,N). Use fill.output to show the number of Iteration per starting point and each zero found."
   ]
  },
  {
   "cell_type": "code",
   "execution_count": 56,
   "metadata": {},
   "outputs": [
    {
     "ename": "ImportError",
     "evalue": "No module named 'sympy'",
     "output_type": "error",
     "traceback": [
      "\u001b[0;31m---------------------------------------------------------------------------\u001b[0m",
      "\u001b[0;31mImportError\u001b[0m                               Traceback (most recent call last)",
      "\u001b[0;32m<ipython-input-56-0fb9e3a6352d>\u001b[0m in \u001b[0;36m<module>\u001b[0;34m()\u001b[0m\n\u001b[1;32m      2\u001b[0m \u001b[0;32mimport\u001b[0m \u001b[0mscipy\u001b[0m\u001b[0;34m\u001b[0m\u001b[0m\n\u001b[1;32m      3\u001b[0m \u001b[0;32mimport\u001b[0m \u001b[0mmatplotlib\u001b[0m\u001b[0;34m.\u001b[0m\u001b[0mpyplot\u001b[0m \u001b[0;32mas\u001b[0m \u001b[0mmpl\u001b[0m\u001b[0;34m\u001b[0m\u001b[0m\n\u001b[0;32m----> 4\u001b[0;31m \u001b[0;32mimport\u001b[0m \u001b[0msympy\u001b[0m \u001b[0;32mas\u001b[0m \u001b[0msy\u001b[0m\u001b[0;34m\u001b[0m\u001b[0m\n\u001b[0m\u001b[1;32m      5\u001b[0m \u001b[0;34m\u001b[0m\u001b[0m\n\u001b[1;32m      6\u001b[0m \u001b[0;32mfrom\u001b[0m \u001b[0mscipy\u001b[0m\u001b[0;34m.\u001b[0m\u001b[0moptimize\u001b[0m \u001b[0;32mimport\u001b[0m \u001b[0mfsolve\u001b[0m\u001b[0;34m\u001b[0m\u001b[0m\n",
      "\u001b[0;31mImportError\u001b[0m: No module named 'sympy'"
     ]
    }
   ],
   "source": [
    "import numpy as np\n",
    "import scipy\n",
    "import matplotlib.pyplot as mpl\n",
    "import sympy as sy\n",
    "\n",
    "from scipy.optimize import fsolve\n",
    "from scipy.optimize import fminbound"
   ]
  },
  {
   "cell_type": "code",
   "execution_count": 40,
   "metadata": {},
   "outputs": [
    {
     "name": "stdout",
     "output_type": "stream",
     "text": [
      "[ 0.] 3\n",
      "[ 0.] 7\n",
      "[ 0.] 8\n",
      "[ 0.] 8\n",
      "[ 0.] 9\n",
      "[-0.62831853] 11\n",
      "[ 12.56637061] 12\n",
      "[ 0.] 12\n",
      "[ 0.62831853] 8\n",
      "[ 0.62831853] 7\n",
      "[ 0.62831853] 7\n",
      "[ 0.62831853] 6\n",
      "[ 0.62831853] 5\n",
      "[ 0.62831853] 6\n",
      "[ 0.62831853] 7\n",
      "[ 0.62831853] 7\n",
      "[ 0.62831853] 8\n",
      "[ 0.] 10\n",
      "[ 5.02654825] 9\n",
      "[ 1.25663706] 10\n"
     ]
    }
   ],
   "source": [
    "# Define the object function f1 = 5*sin(5x)\n",
    "def f1(x):\n",
    "    y = 5*np.sin(5*x)\n",
    "    return y\n",
    "\n",
    "# Inital values of x\n",
    "N = 20\n",
    "x_Inital = np.linspace(0,1,N)\n",
    "\n",
    "for i in np.arange(N):\n",
    "    x0 = eval(\"fsolve(f1,\" + str(x_Inital[i]) + \")\")\n",
    "    n = eval(\"fsolve(f1,\" + str(x_Inital[i]) + \",full_output=1)[1]['nfev']\")\n",
    "    print(x0,n)"
   ]
  },
  {
   "cell_type": "markdown",
   "metadata": {},
   "source": [
    "# Part 2\n",
    "Use scipy.optimize.fminbound to find the ZEROS of\n",
    "$$ f_2(x) = x^4-4x^3-3x^2-x $$\n",
    "on different intervals.\n",
    "Consider how it differs from fsolve."
   ]
  },
  {
   "cell_type": "code",
   "execution_count": 54,
   "metadata": {},
   "outputs": [
    {
     "data": {
      "image/png": "[encoded data removed]",
      "text/plain": [
       "<matplotlib.figure.Figure at 0x2abfdb85e160>"
      ]
     },
     "metadata": {},
     "output_type": "display_data"
    },
    {
     "name": "stdout",
     "output_type": "stream",
     "text": [
      "(3.4550841375515504, -61.743194845337541, 0, 14)\n"
     ]
    }
   ],
   "source": [
    "# Define the object function f2(x) = x^4-4x^3-3x^2-x\n",
    "def f2(x):\n",
    "    y = x**4 - 4*x**3 - 3*x**2 - x\n",
    "    return y\n",
    "\n",
    "Int_f2 = eval('lamba x:' + str(sy.int(x**4-4*x**3-3*x**2-x)))\n",
    "\n",
    "# Optimization bound\n",
    "x1 = 0\n",
    "x2 = 20\n",
    "\n",
    "# Plot the function f2\n",
    "xr = np.linspace(-5,5,1000)\n",
    "yr = f2(xr)\n",
    "mpl.plot(xr,yr)\n",
    "mpl.show()\n",
    "\n",
    "x0 = fminbound(Int_f2,x1,x2,full_output=1)\n",
    "print(x0)"
   ]
  },
  {
   "cell_type": "code",
   "execution_count": null,
   "metadata": {
    "collapsed": true
   },
   "outputs": [],
   "source": []
  }
 ],
 "metadata": {
  "kernelspec": {
   "display_name": "Python 3",
   "language": "python",
   "name": "python3"
  },
  "language_info": {
   "codemirror_mode": {
    "name": "ipython",
    "version": 3
   },
   "file_extension": ".py",
   "mimetype": "text/x-python",
   "name": "python",
   "nbconvert_exporter": "python",
   "pygments_lexer": "ipython3",
   "version": "3.6.4"
  }
 },
 "nbformat": 4,
 "nbformat_minor": 2
}
